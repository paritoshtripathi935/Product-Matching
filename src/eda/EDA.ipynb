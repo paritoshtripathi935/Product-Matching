{
 "cells": [
  {
   "cell_type": "code",
   "execution_count": 9,
   "metadata": {},
   "outputs": [
    {
     "name": "stdout",
     "output_type": "stream",
     "text": [
      "The database amazon.db does not exist\n"
     ]
    },
    {
     "ename": "SystemExit",
     "evalue": "1",
     "output_type": "error",
     "traceback": [
      "An exception has occurred, use %tb to see the full traceback.\n",
      "\u001b[0;31mSystemExit\u001b[0m\u001b[0;31m:\u001b[0m 1\n"
     ]
    }
   ],
   "source": [
    "# connect with the database\n",
    "import sqlite3\n",
    "import os\n",
    "import sys\n",
    "import time\n",
    "import datetime\n",
    "sys.path.append(\"src\")\n",
    "\n",
    "def connect(db_name: str):\n",
    "    # check if the database exists\n",
    "    if not os.path.exists(db_name):\n",
    "        print(f\"The database {db_name} does not exist\")\n",
    "        sys.exit(1)\n",
    "    \n",
    "    conn = sqlite3.connect(db_name)\n",
    "    cursor = conn.cursor()\n",
    "    return cursor\n",
    "\n",
    "def generate_stats(database: str):\n",
    "    stats = {}\n",
    "    cursor = connect(database)\n",
    "    cursor.execute(\"SELECT name FROM sqlite_master WHERE type='table';\")\n",
    "    tables = cursor.fetchall()\n",
    "    stats[\"tables\"] = tables\n",
    "    print(f\"Tables in the database: {tables}\")\n",
    "    \n",
    "    for table in tables:\n",
    "        cursor.execute(f\"SELECT COUNT(*) FROM {table[0]}\")\n",
    "        rows = cursor.fetchall()\n",
    "        print(f\"Total rows in {table[0]}: {rows[0][0]}\")\n",
    "        stats[table[0]] = rows[0][0]\n",
    "    \n",
    "    for table in tables:\n",
    "        cursor.execute(f\"PRAGMA table_info({table[0]})\")\n",
    "        columns = cursor.fetchall()\n",
    "        print(f\"Columns in {table[0]}: {len(columns)}\")\n",
    "        stats[table[0]] = columns\n",
    "        \n",
    "    cursor.execute(\"SELECT COUNT(DISTINCT sku) FROM products\")\n",
    "    products = cursor.fetchall()\n",
    "    print(f\"Total unique products: {products[0][0]}\")\n",
    "    stats[\"products\"] = products[0][0]\n",
    "    \n",
    "    return stats\n",
    "    \n",
    "\n",
    "\n",
    "generate_stats(\"amazon.db\")\n"
   ]
  }
 ],
 "metadata": {
  "kernelspec": {
   "display_name": "Python 3",
   "language": "python",
   "name": "python3"
  },
  "language_info": {
   "codemirror_mode": {
    "name": "ipython",
    "version": 3
   },
   "file_extension": ".py",
   "mimetype": "text/x-python",
   "name": "python",
   "nbconvert_exporter": "python",
   "pygments_lexer": "ipython3",
   "version": "3.10.9"
  }
 },
 "nbformat": 4,
 "nbformat_minor": 2
}
